{
 "cells": [
  {
   "cell_type": "code",
   "execution_count": 3,
   "id": "44e504b6",
   "metadata": {},
   "outputs": [
    {
     "name": "stdout",
     "output_type": "stream",
     "text": [
      "Frequent Item Sets:\n",
      "    support                  itemsets\n",
      "0       0.8                  (item_A)\n",
      "1       0.8                  (item_B)\n",
      "2       0.8                  (item_C)\n",
      "3       0.4                  (item_D)\n",
      "4       0.6          (item_B, item_A)\n",
      "5       0.6          (item_C, item_A)\n",
      "6       0.4          (item_D, item_A)\n",
      "7       0.6          (item_B, item_C)\n",
      "8       0.4          (item_B, item_D)\n",
      "9       0.4  (item_B, item_C, item_A)\n",
      "10      0.4  (item_B, item_A, item_D)\n",
      "\n",
      "Association Rules:\n",
      "         antecedents       consequents  antecedent support  \\\n",
      "0           (item_B)          (item_A)                 0.8   \n",
      "1           (item_A)          (item_B)                 0.8   \n",
      "2           (item_C)          (item_A)                 0.8   \n",
      "3           (item_A)          (item_C)                 0.8   \n",
      "4           (item_D)          (item_A)                 0.4   \n",
      "5           (item_B)          (item_C)                 0.8   \n",
      "6           (item_C)          (item_B)                 0.8   \n",
      "7           (item_D)          (item_B)                 0.4   \n",
      "8   (item_B, item_D)          (item_A)                 0.4   \n",
      "9   (item_D, item_A)          (item_B)                 0.4   \n",
      "10          (item_D)  (item_B, item_A)                 0.4   \n",
      "\n",
      "    consequent support  support  confidence      lift  leverage  conviction  \\\n",
      "0                  0.8      0.6        0.75  0.937500     -0.04         0.8   \n",
      "1                  0.8      0.6        0.75  0.937500     -0.04         0.8   \n",
      "2                  0.8      0.6        0.75  0.937500     -0.04         0.8   \n",
      "3                  0.8      0.6        0.75  0.937500     -0.04         0.8   \n",
      "4                  0.8      0.4        1.00  1.250000      0.08         inf   \n",
      "5                  0.8      0.6        0.75  0.937500     -0.04         0.8   \n",
      "6                  0.8      0.6        0.75  0.937500     -0.04         0.8   \n",
      "7                  0.8      0.4        1.00  1.250000      0.08         inf   \n",
      "8                  0.8      0.4        1.00  1.250000      0.08         inf   \n",
      "9                  0.8      0.4        1.00  1.250000      0.08         inf   \n",
      "10                 0.6      0.4        1.00  1.666667      0.16         inf   \n",
      "\n",
      "    zhangs_metric  \n",
      "0       -0.250000  \n",
      "1       -0.250000  \n",
      "2       -0.250000  \n",
      "3       -0.250000  \n",
      "4        0.333333  \n",
      "5       -0.250000  \n",
      "6       -0.250000  \n",
      "7        0.333333  \n",
      "8        0.333333  \n",
      "9        0.333333  \n",
      "10       0.666667  \n"
     ]
    },
    {
     "name": "stderr",
     "output_type": "stream",
     "text": [
      "C:\\Users\\ALLOT\\AppData\\Local\\Temp/ipykernel_15556/4171823605.py:18: FutureWarning: Using the level keyword in DataFrame and Series aggregations is deprecated and will be removed in a future version. Use groupby instead. df.median(level=1) should use df.groupby(level=1).median().\n",
      "  oht = pd.get_dummies(df['Items'].apply(pd.Series).stack(), prefix='item').max(level=0)\n",
      "C:\\Users\\ALLOT\\anaconda3\\lib\\site-packages\\mlxtend\\frequent_patterns\\fpcommon.py:110: DeprecationWarning: DataFrames with non-bool types result in worse computationalperformance and their support might be discontinued in the future.Please use a DataFrame with bool type\n",
      "  warnings.warn(\n"
     ]
    }
   ],
   "source": [
    "import pandas as pd\n",
    "from mlxtend.frequent_patterns import apriori\n",
    "from mlxtend.frequent_patterns import association_rules\n",
    "\n",
    "# Sample dataset (replace with your own dataset)\n",
    "data = {\n",
    "    'TransactionID': [1, 2, 3, 4, 5],\n",
    "    'Items': [['A', 'B', 'D'],\n",
    "              ['B', 'C'],\n",
    "              ['A', 'B', 'C'],\n",
    "              ['A', 'C'],\n",
    "              ['A', 'B', 'C', 'D']]\n",
    "}\n",
    "\n",
    "df = pd.DataFrame(data)\n",
    "\n",
    "# One-hot encode the items\n",
    "oht = pd.get_dummies(df['Items'].apply(pd.Series).stack(), prefix='item').max(level=0)\n",
    "\n",
    "# Apply Apriori algorithm to find frequent item sets\n",
    "min_support = 0.4  # Minimum support threshold (adjust as needed)\n",
    "frequent_item_sets = apriori(oht, min_support=min_support, use_colnames=True)\n",
    "\n",
    "# Generate association rules\n",
    "min_confidence = 0.7  # Minimum confidence threshold (adjust as needed)\n",
    "association_rules_df = association_rules(frequent_item_sets, metric='confidence', min_threshold=min_confidence)\n",
    "\n",
    "# Display the frequent item sets and association rules\n",
    "print(\"Frequent Item Sets:\")\n",
    "print(frequent_item_sets)\n",
    "\n",
    "print(\"\\nAssociation Rules:\")\n",
    "print(association_rules_df)"
   ]
  },
  {
   "cell_type": "code",
   "execution_count": null,
   "id": "273ee489",
   "metadata": {},
   "outputs": [],
   "source": []
  },
  {
   "cell_type": "markdown",
   "id": "b6dc4a12",
   "metadata": {},
   "source": []
  }
 ],
 "metadata": {
  "kernelspec": {
   "display_name": "Python 3 (ipykernel)",
   "language": "python",
   "name": "python3"
  },
  "language_info": {
   "codemirror_mode": {
    "name": "ipython",
    "version": 3
   },
   "file_extension": ".py",
   "mimetype": "text/x-python",
   "name": "python",
   "nbconvert_exporter": "python",
   "pygments_lexer": "ipython3",
   "version": "3.9.7"
  }
 },
 "nbformat": 4,
 "nbformat_minor": 5
}
